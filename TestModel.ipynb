{
 "cells": [
  {
   "cell_type": "code",
   "execution_count": 1,
   "outputs": [],
   "source": [
    "from transformers import AutoTokenizer, AutoModelForCausalLM\n",
    "import torch\n",
    "import pandas as pd"
   ],
   "metadata": {
    "collapsed": false,
    "ExecuteTime": {
     "end_time": "2024-03-01T11:57:26.454320Z",
     "start_time": "2024-03-01T11:57:15.965288500Z"
    }
   },
   "id": "d460f8744fbcacda"
  },
  {
   "cell_type": "code",
   "execution_count": 8,
   "outputs": [],
   "source": [
    "dfC = 'E:/chatbot CEPI/data/pregunta_respuesta.csv'\n",
    "dfClean = pd.read_csv(dfC)"
   ],
   "metadata": {
    "collapsed": false,
    "ExecuteTime": {
     "end_time": "2024-03-01T11:58:51.083014800Z",
     "start_time": "2024-03-01T11:58:50.810845200Z"
    }
   },
   "id": "3d46589bb392bddb"
  },
  {
   "cell_type": "code",
   "execution_count": 3,
   "outputs": [],
   "source": [
    "model =AutoModelForCausalLM.from_pretrained(\"LuisDavidFT777/gpt2-spanish-medium\")\n",
    "tokenizer = AutoTokenizer.from_pretrained(\"DeepESP/gpt2-spanish-medium\")"
   ],
   "metadata": {
    "collapsed": false,
    "ExecuteTime": {
     "end_time": "2024-03-01T11:57:38.981853300Z",
     "start_time": "2024-03-01T11:57:26.816762600Z"
    }
   },
   "id": "7f41b4928a755c27"
  },
  {
   "cell_type": "code",
   "execution_count": 4,
   "outputs": [
    {
     "data": {
      "text/plain": "GPT2LMHeadModel(\n  (transformer): GPT2Model(\n    (wte): Embedding(50257, 1024)\n    (wpe): Embedding(1024, 1024)\n    (drop): Dropout(p=0.1, inplace=False)\n    (h): ModuleList(\n      (0-23): 24 x GPT2Block(\n        (ln_1): LayerNorm((1024,), eps=1e-05, elementwise_affine=True)\n        (attn): GPT2Attention(\n          (c_attn): Conv1D()\n          (c_proj): Conv1D()\n          (attn_dropout): Dropout(p=0.1, inplace=False)\n          (resid_dropout): Dropout(p=0.1, inplace=False)\n        )\n        (ln_2): LayerNorm((1024,), eps=1e-05, elementwise_affine=True)\n        (mlp): GPT2MLP(\n          (c_fc): Conv1D()\n          (c_proj): Conv1D()\n          (act): NewGELUActivation()\n          (dropout): Dropout(p=0.1, inplace=False)\n        )\n      )\n    )\n    (ln_f): LayerNorm((1024,), eps=1e-05, elementwise_affine=True)\n  )\n  (lm_head): Linear(in_features=1024, out_features=50257, bias=False)\n)"
     },
     "execution_count": 4,
     "metadata": {},
     "output_type": "execute_result"
    }
   ],
   "source": [
    "device = 'cuda' if torch.cuda.is_available() else 'cpu'\n",
    "model.to(device)"
   ],
   "metadata": {
    "collapsed": false,
    "ExecuteTime": {
     "end_time": "2024-03-01T11:57:40.799099300Z",
     "start_time": "2024-03-01T11:57:38.977853300Z"
    }
   },
   "id": "715b26f3886241c0"
  },
  {
   "cell_type": "code",
   "execution_count": 5,
   "outputs": [],
   "source": [
    "generation_config = model.generation_config\n",
    "generation_config.max_new_tokens=100\n",
    "generation_config.pad_token_id=tokenizer.eos_token_id\n",
    "generation_config.eso_token_id=tokenizer.eos_token_id\n",
    "generation_config.num_return_sequence=1\n",
    "generation_config.top_p=0.7\n",
    "generation_config.do_sample=False"
   ],
   "metadata": {
    "collapsed": false,
    "ExecuteTime": {
     "end_time": "2024-03-01T11:57:40.827456800Z",
     "start_time": "2024-03-01T11:57:40.790021500Z"
    }
   },
   "id": "3feb17543850862b"
  },
  {
   "cell_type": "code",
   "execution_count": 6,
   "outputs": [],
   "source": [
    "text = \"<humano> Dame una recomendacion de este curso <nombre> Diplomado en Derecho Procesal Penal Mención: Ley Nº 1173, Ley de Abreviación Procesal Penal y de Fortalecimiento  de la Lucha Integral Contra la Violencia  a Niñas, Niños, Adolescentes y Mujeres <monto> 0.0 <costo> 0 <asistente>\""
   ],
   "metadata": {
    "collapsed": false,
    "ExecuteTime": {
     "end_time": "2024-03-01T11:57:40.850348100Z",
     "start_time": "2024-03-01T11:57:40.803108500Z"
    }
   },
   "id": "f94bca7d0967c6bd"
  },
  {
   "cell_type": "code",
   "execution_count": 7,
   "outputs": [
    {
     "name": "stderr",
     "output_type": "stream",
     "text": [
      "E:\\chatbot CEPI\\venv\\Lib\\site-packages\\transformers\\generation\\configuration_utils.py:397: UserWarning: `do_sample` is set to `False`. However, `top_p` is set to `0.7` -- this flag is only used in sample-based generation modes. You should set `do_sample=True` or unset `top_p`.\n",
      "  warnings.warn(\n"
     ]
    },
    {
     "data": {
      "text/plain": "'<humano> Dame una recomendacion de este curso <nombre> Diplomado en Derecho Procesal Penal Mención: Ley Nº 1173, Ley de Abreviación Procesal Penal y de Fortalecimiento  de la Lucha Integral Contra la Violencia  a Niñas, Niños, Adolescentes y Mujeres <monto> 0.0 <costo> 0 <asistente> <titulo> abogado <area> humanidades y sociales <universidad> mayor, real y pontificia de san francisco xavierco xavierco xavierco xavierco xavierco xavierco xavierco xavierco xavierco xavierco xavierco xavierco xavierco xavierco xavierco xavierco xavierco xavierco xavierco xavierco xavierco xavierco xavierco xavierco'"
     },
     "execution_count": 7,
     "metadata": {},
     "output_type": "execute_result"
    }
   ],
   "source": [
    "input = tokenizer(text, return_tensors='pt', padding='max_length', max_length=50).to(device)\n",
    "output = model.generate(input_ids=input.input_ids, attention_mask=input['attention_mask'],\n",
    "                          generation_config=generation_config)\n",
    "tokenizer.decode(output[0])"
   ],
   "metadata": {
    "collapsed": false,
    "ExecuteTime": {
     "end_time": "2024-03-01T11:57:51.236690700Z",
     "start_time": "2024-03-01T11:57:40.815433600Z"
    }
   },
   "id": "initial_id"
  },
  {
   "cell_type": "code",
   "execution_count": 10,
   "outputs": [
    {
     "data": {
      "text/plain": "                         area               nombretitulo  \\\n262    Humanidades y Sociales                    Abogado   \n1848   Humanidades y Sociales                    Abogado   \n2920   Humanidades y Sociales                    Abogado   \n3441   Humanidades y Sociales                    Abogado   \n3687   Humanidades y Sociales                    Abogado   \n...                       ...                        ...   \n16990  Humanidades y Sociales                    Abogado   \n16991  Humanidades y Sociales                    Abogado   \n16992  Humanidades y Sociales                    Abogado   \n16997  Humanidades y Sociales                    Abogado   \n17007  Humanidades y Sociales  Licenciado en Humanidades   \n\n                                      nombreuniversidad  \n262    MAYOR, REAL Y PONTIFICIA DE SAN FRANCISCO XAVIER  \n1848   MAYOR, REAL Y PONTIFICIA DE SAN FRANCISCO XAVIER  \n2920   MAYOR, REAL Y PONTIFICIA DE SAN FRANCISCO XAVIER  \n3441   MAYOR, REAL Y PONTIFICIA DE SAN FRANCISCO XAVIER  \n3687   MAYOR, REAL Y PONTIFICIA DE SAN FRANCISCO XAVIER  \n...                                                 ...  \n16990  MAYOR, REAL Y PONTIFICIA DE SAN FRANCISCO XAVIER  \n16991                      AUTONOMA GABRIEL RENE MORENO  \n16992  MAYOR, REAL Y PONTIFICIA DE SAN FRANCISCO XAVIER  \n16997  MAYOR, REAL Y PONTIFICIA DE SAN FRANCISCO XAVIER  \n17007  MAYOR, REAL Y PONTIFICIA DE SAN FRANCISCO XAVIER  \n\n[111 rows x 3 columns]",
      "text/html": "<div>\n<style scoped>\n    .dataframe tbody tr th:only-of-type {\n        vertical-align: middle;\n    }\n\n    .dataframe tbody tr th {\n        vertical-align: top;\n    }\n\n    .dataframe thead th {\n        text-align: right;\n    }\n</style>\n<table border=\"1\" class=\"dataframe\">\n  <thead>\n    <tr style=\"text-align: right;\">\n      <th></th>\n      <th>area</th>\n      <th>nombretitulo</th>\n      <th>nombreuniversidad</th>\n    </tr>\n  </thead>\n  <tbody>\n    <tr>\n      <th>262</th>\n      <td>Humanidades y Sociales</td>\n      <td>Abogado</td>\n      <td>MAYOR, REAL Y PONTIFICIA DE SAN FRANCISCO XAVIER</td>\n    </tr>\n    <tr>\n      <th>1848</th>\n      <td>Humanidades y Sociales</td>\n      <td>Abogado</td>\n      <td>MAYOR, REAL Y PONTIFICIA DE SAN FRANCISCO XAVIER</td>\n    </tr>\n    <tr>\n      <th>2920</th>\n      <td>Humanidades y Sociales</td>\n      <td>Abogado</td>\n      <td>MAYOR, REAL Y PONTIFICIA DE SAN FRANCISCO XAVIER</td>\n    </tr>\n    <tr>\n      <th>3441</th>\n      <td>Humanidades y Sociales</td>\n      <td>Abogado</td>\n      <td>MAYOR, REAL Y PONTIFICIA DE SAN FRANCISCO XAVIER</td>\n    </tr>\n    <tr>\n      <th>3687</th>\n      <td>Humanidades y Sociales</td>\n      <td>Abogado</td>\n      <td>MAYOR, REAL Y PONTIFICIA DE SAN FRANCISCO XAVIER</td>\n    </tr>\n    <tr>\n      <th>...</th>\n      <td>...</td>\n      <td>...</td>\n      <td>...</td>\n    </tr>\n    <tr>\n      <th>16990</th>\n      <td>Humanidades y Sociales</td>\n      <td>Abogado</td>\n      <td>MAYOR, REAL Y PONTIFICIA DE SAN FRANCISCO XAVIER</td>\n    </tr>\n    <tr>\n      <th>16991</th>\n      <td>Humanidades y Sociales</td>\n      <td>Abogado</td>\n      <td>AUTONOMA GABRIEL RENE MORENO</td>\n    </tr>\n    <tr>\n      <th>16992</th>\n      <td>Humanidades y Sociales</td>\n      <td>Abogado</td>\n      <td>MAYOR, REAL Y PONTIFICIA DE SAN FRANCISCO XAVIER</td>\n    </tr>\n    <tr>\n      <th>16997</th>\n      <td>Humanidades y Sociales</td>\n      <td>Abogado</td>\n      <td>MAYOR, REAL Y PONTIFICIA DE SAN FRANCISCO XAVIER</td>\n    </tr>\n    <tr>\n      <th>17007</th>\n      <td>Humanidades y Sociales</td>\n      <td>Licenciado en Humanidades</td>\n      <td>MAYOR, REAL Y PONTIFICIA DE SAN FRANCISCO XAVIER</td>\n    </tr>\n  </tbody>\n</table>\n<p>111 rows × 3 columns</p>\n</div>"
     },
     "execution_count": 10,
     "metadata": {},
     "output_type": "execute_result"
    }
   ],
   "source": [
    "dfClean[dfClean['nombre_programa']=='Diplomado en Derecho Procesal Penal Mención: Ley Nº 1173, Ley de Abreviación Procesal Penal y de Fortalecimiento  de la Lucha Integral Contra la Violencia  a Niñas, Niños, Adolescentes y Mujeres'].loc[:,['area','nombretitulo','nombreuniversidad']]"
   ],
   "metadata": {
    "collapsed": false,
    "ExecuteTime": {
     "end_time": "2024-03-01T12:02:17.676703200Z",
     "start_time": "2024-03-01T12:02:17.620663400Z"
    }
   },
   "id": "569a3f2614c1568"
  }
 ],
 "metadata": {
  "kernelspec": {
   "display_name": "Python 3",
   "language": "python",
   "name": "python3"
  },
  "language_info": {
   "codemirror_mode": {
    "name": "ipython",
    "version": 2
   },
   "file_extension": ".py",
   "mimetype": "text/x-python",
   "name": "python",
   "nbconvert_exporter": "python",
   "pygments_lexer": "ipython2",
   "version": "2.7.6"
  }
 },
 "nbformat": 4,
 "nbformat_minor": 5
}
