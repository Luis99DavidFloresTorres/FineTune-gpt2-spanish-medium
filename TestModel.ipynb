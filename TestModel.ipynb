{
 "cells": [
  {
   "cell_type": "code",
   "execution_count": 36,
   "outputs": [],
   "source": [
    "from transformers import AutoTokenizer, AutoModelForCausalLM\n",
    "import torch\n",
    "import pandas as pd"
   ],
   "metadata": {
    "collapsed": false,
    "ExecuteTime": {
     "end_time": "2024-03-01T02:58:46.733576400Z",
     "start_time": "2024-03-01T02:58:46.719751700Z"
    }
   },
   "id": "d460f8744fbcacda"
  },
  {
   "cell_type": "code",
   "execution_count": 37,
   "outputs": [],
   "source": [
    "dfC = 'E:/chatbot CEPI/data/pregunta_respuesta.csv'\n",
    "dfClean = pd.read_csv(dfC)"
   ],
   "metadata": {
    "collapsed": false,
    "ExecuteTime": {
     "end_time": "2024-03-01T02:58:47.797822Z",
     "start_time": "2024-03-01T02:58:47.545704Z"
    }
   },
   "id": "3d46589bb392bddb"
  },
  {
   "cell_type": "code",
   "execution_count": 33,
   "outputs": [
    {
     "data": {
      "text/plain": "config.json:   0%|          | 0.00/1.02k [00:00<?, ?B/s]",
      "application/vnd.jupyter.widget-view+json": {
       "version_major": 2,
       "version_minor": 0,
       "model_id": "1a6ac0216c0f450eb3806eb4211086df"
      }
     },
     "metadata": {},
     "output_type": "display_data"
    },
    {
     "name": "stderr",
     "output_type": "stream",
     "text": [
      "E:\\chatbot CEPI\\venv\\Lib\\site-packages\\huggingface_hub\\file_download.py:149: UserWarning: `huggingface_hub` cache-system uses symlinks by default to efficiently store duplicated files but your machine does not support them in C:\\Users\\Usuario\\.cache\\huggingface\\hub\\models--LuisDavidFT777--gpt2-spanish-medium. Caching files will still work but in a degraded version that might require more space on your disk. This warning can be disabled by setting the `HF_HUB_DISABLE_SYMLINKS_WARNING` environment variable. For more details, see https://huggingface.co/docs/huggingface_hub/how-to-cache#limitations.\n",
      "To support symlinks on Windows, you either need to activate Developer Mode or to run Python as an administrator. In order to see activate developer mode, see this article: https://docs.microsoft.com/en-us/windows/apps/get-started/enable-your-device-for-development\n",
      "  warnings.warn(message)\n"
     ]
    },
    {
     "data": {
      "text/plain": "model.safetensors:   0%|          | 0.00/1.42G [00:00<?, ?B/s]",
      "application/vnd.jupyter.widget-view+json": {
       "version_major": 2,
       "version_minor": 0,
       "model_id": "61f974084da044bb921a09c396f4443b"
      }
     },
     "metadata": {},
     "output_type": "display_data"
    },
    {
     "data": {
      "text/plain": "generation_config.json:   0%|          | 0.00/206 [00:00<?, ?B/s]",
      "application/vnd.jupyter.widget-view+json": {
       "version_major": 2,
       "version_minor": 0,
       "model_id": "a20e1a423a1345cfb811df63abb58235"
      }
     },
     "metadata": {},
     "output_type": "display_data"
    }
   ],
   "source": [
    "model =AutoModelForCausalLM.from_pretrained(\"LuisDavidFT777/gpt2-spanish-medium\")\n",
    "tokenizer = AutoTokenizer.from_pretrained(\"DeepESP/gpt2-spanish-medium\")"
   ],
   "metadata": {
    "collapsed": false,
    "ExecuteTime": {
     "start_time": "2024-03-01T02:21:26.456424500Z"
    }
   },
   "id": "7f41b4928a755c27"
  },
  {
   "cell_type": "code",
   "execution_count": 4,
   "outputs": [
    {
     "data": {
      "text/plain": "GPT2LMHeadModel(\n  (transformer): GPT2Model(\n    (wte): Embedding(50257, 1024)\n    (wpe): Embedding(1024, 1024)\n    (drop): Dropout(p=0.1, inplace=False)\n    (h): ModuleList(\n      (0-23): 24 x GPT2Block(\n        (ln_1): LayerNorm((1024,), eps=1e-05, elementwise_affine=True)\n        (attn): GPT2Attention(\n          (c_attn): Conv1D()\n          (c_proj): Conv1D()\n          (attn_dropout): Dropout(p=0.1, inplace=False)\n          (resid_dropout): Dropout(p=0.1, inplace=False)\n        )\n        (ln_2): LayerNorm((1024,), eps=1e-05, elementwise_affine=True)\n        (mlp): GPT2MLP(\n          (c_fc): Conv1D()\n          (c_proj): Conv1D()\n          (act): NewGELUActivation()\n          (dropout): Dropout(p=0.1, inplace=False)\n        )\n      )\n    )\n    (ln_f): LayerNorm((1024,), eps=1e-05, elementwise_affine=True)\n  )\n  (lm_head): Linear(in_features=1024, out_features=50257, bias=False)\n)"
     },
     "execution_count": 4,
     "metadata": {},
     "output_type": "execute_result"
    }
   ],
   "source": [
    "device = 'cuda' if torch.cuda.is_available() else 'cpu'\n",
    "model.to(device)"
   ],
   "metadata": {
    "collapsed": false,
    "ExecuteTime": {
     "start_time": "2024-03-01T00:13:58.185147500Z"
    }
   },
   "id": "715b26f3886241c0"
  },
  {
   "cell_type": "code",
   "execution_count": 12,
   "outputs": [],
   "source": [
    "generation_config = model.generation_config\n",
    "generation_config.max_new_tokens=100\n",
    "generation_config.pad_token_id=tokenizer.eos_token_id\n",
    "generation_config.eso_token_id=tokenizer.eos_token_id\n",
    "generation_config.num_return_sequence=1\n",
    "generation_config.top_p=0.7\n",
    "generation_config.do_sample=False"
   ],
   "metadata": {
    "collapsed": false,
    "ExecuteTime": {
     "start_time": "2024-03-01T00:15:24.957782400Z"
    }
   },
   "id": "3feb17543850862b"
  },
  {
   "cell_type": "code",
   "execution_count": 31,
   "outputs": [],
   "source": [
    "text = \"<humano> Dame una recomendacion de este curso <nombre> Diplomado en Derecho Procesal Penal Mención: Ley Nº 1173, Ley de Abreviación Procesal Penal y de Fortalecimiento  de la Lucha Integral Contra la Violencia  a Niñas, Niños, Adolescentes y Mujeres <monto> 0.0 <costo> 0 <asistente>\""
   ],
   "metadata": {
    "collapsed": false,
    "ExecuteTime": {
     "start_time": "2024-03-01T02:11:28.889250700Z"
    }
   },
   "id": "f94bca7d0967c6bd"
  },
  {
   "cell_type": "code",
   "execution_count": 32,
   "outputs": [
    {
     "name": "stderr",
     "output_type": "stream",
     "text": [
      "E:\\chatbot CEPI\\venv\\Lib\\site-packages\\transformers\\generation\\configuration_utils.py:397: UserWarning: `do_sample` is set to `False`. However, `top_p` is set to `0.7` -- this flag is only used in sample-based generation modes. You should set `do_sample=True` or unset `top_p`.\n",
      "  warnings.warn(\n"
     ]
    },
    {
     "data": {
      "text/plain": "'<humano> Dame una recomendacion de este curso <nombre> Diplomado en Derecho Procesal Penal Mención: Ley Nº 1173, Ley de Abreviación Procesal Penal y de Fortalecimiento  de la Lucha Integral Contra la Violencia  a Niñas, Niños, Adolescentes y Mujeres <monto> 0.0 <costo> 0 <asistente> <titulo> abogado <area> humanidades y sociales <universidad> mayor, real y pontificia de san francisco xavierco xavierco xavierco xavierco xavierco xavierco xavierco xavierco xavierco xavierco xavierco xavierco xavierco xavierco xavierco xavierco xavierco xavierco xavierco xavierco xavierco xavierco xavierco xavierco'"
     },
     "execution_count": 32,
     "metadata": {},
     "output_type": "execute_result"
    }
   ],
   "source": [
    "input = tokenizer(text, return_tensors='pt', padding='max_length', max_length=50).to(device)\n",
    "output = model.generate(input_ids=input.input_ids, attention_mask=input['attention_mask'],\n",
    "                          generation_config=generation_config)\n",
    "tokenizer.decode(output[0])"
   ],
   "metadata": {
    "collapsed": false,
    "ExecuteTime": {
     "start_time": "2024-03-01T02:11:29.261613800Z"
    }
   },
   "id": "initial_id"
  },
  {
   "cell_type": "code",
   "execution_count": 35,
   "outputs": [
    {
     "data": {
      "text/plain": "             id                                 nombreuniversidad  \\\n262     4088924  MAYOR, REAL Y PONTIFICIA DE SAN FRANCISCO XAVIER   \n1848    5632979  MAYOR, REAL Y PONTIFICIA DE SAN FRANCISCO XAVIER   \n2920    5490322  MAYOR, REAL Y PONTIFICIA DE SAN FRANCISCO XAVIER   \n3441    4096564  MAYOR, REAL Y PONTIFICIA DE SAN FRANCISCO XAVIER   \n3687    3628445  MAYOR, REAL Y PONTIFICIA DE SAN FRANCISCO XAVIER   \n...         ...                                               ...   \n16990   5679864  MAYOR, REAL Y PONTIFICIA DE SAN FRANCISCO XAVIER   \n16991   7505814                      AUTONOMA GABRIEL RENE MORENO   \n16992  10337464  MAYOR, REAL Y PONTIFICIA DE SAN FRANCISCO XAVIER   \n16997   5668157  MAYOR, REAL Y PONTIFICIA DE SAN FRANCISCO XAVIER   \n17007   7566061  MAYOR, REAL Y PONTIFICIA DE SAN FRANCISCO XAVIER   \n\n                    nombretitulo      nombre_universidad  monto_tutoria  \\\n262                      Abogado  Humanidades y Sociales         2475.0   \n1848                     Abogado  Humanidades y Sociales         2475.0   \n2920                     Abogado  Humanidades y Sociales            0.0   \n3441                     Abogado  Humanidades y Sociales          760.0   \n3687                     Abogado  Humanidades y Sociales         2475.0   \n...                          ...                     ...            ...   \n16990                    Abogado  Humanidades y Sociales            0.0   \n16991                    Abogado  Humanidades y Sociales            0.0   \n16992                    Abogado  Humanidades y Sociales          760.0   \n16997                    Abogado  Humanidades y Sociales         2475.0   \n17007  Licenciado en Humanidades  Humanidades y Sociales         2475.0   \n\n       costo_programa  siglaNoVersion siglaNoVersionNumero  \\\n262              3500        0.007229                    1   \n1848             3500        0.007229                    1   \n2920             3500        0.007229                    1   \n3441             3500        0.007229                    1   \n3687             3500        0.007229                    1   \n...               ...             ...                  ...   \n16990            3500        0.007229                    1   \n16991            3500        0.007229                    1   \n16992            3500        0.007229                    1   \n16997            3500        0.007229                    1   \n17007            3500        0.007229                    1   \n\n                                         nombre_programa  titulacion_antiguo  \\\n262    Diplomado en Derecho Procesal Penal Mención: L...                True   \n1848   Diplomado en Derecho Procesal Penal Mención: L...                True   \n2920   Diplomado en Derecho Procesal Penal Mención: L...                True   \n3441   Diplomado en Derecho Procesal Penal Mención: L...                True   \n3687   Diplomado en Derecho Procesal Penal Mención: L...                True   \n...                                                  ...                 ...   \n16990  Diplomado en Derecho Procesal Penal Mención: L...               False   \n16991  Diplomado en Derecho Procesal Penal Mención: L...               False   \n16992  Diplomado en Derecho Procesal Penal Mención: L...               False   \n16997  Diplomado en Derecho Procesal Penal Mención: L...               False   \n17007  Diplomado en Derecho Procesal Penal Mención: L...               False   \n\n       ...  codigo_dpto_nacimiento_PO  codigo_dpto_nacimiento_SC  \\\n262    ...                      False                      False   \n1848   ...                      False                      False   \n2920   ...                      False                      False   \n3441   ...                      False                      False   \n3687   ...                      False                      False   \n...    ...                        ...                        ...   \n16990  ...                      False                      False   \n16991  ...                      False                      False   \n16992  ...                      False                      False   \n16997  ...                      False                      False   \n17007  ...                      False                      False   \n\n       codigo_dpto_nacimiento_VA  codigo_pais_nacimiento_AR  \\\n262                        False                      False   \n1848                       False                      False   \n2920                       False                      False   \n3441                       False                      False   \n3687                       False                      False   \n...                          ...                        ...   \n16990                      False                      False   \n16991                      False                      False   \n16992                      False                      False   \n16997                      False                      False   \n17007                      False                      False   \n\n       codigo_pais_nacimiento_BO  codigo_pais_nacimiento_LATE  \\\n262                         True                        False   \n1848                        True                        False   \n2920                        True                        False   \n3441                        True                        False   \n3687                        True                        False   \n...                          ...                          ...   \n16990                       True                        False   \n16991                       True                        False   \n16992                       True                        False   \n16997                       True                        False   \n17007                       True                        False   \n\n       codigo_pais_nacimiento_PE  codigo_pais_nacimiento_RU  \\\n262                        False                      False   \n1848                       False                      False   \n2920                       False                      False   \n3441                       False                      False   \n3687                       False                      False   \n...                          ...                        ...   \n16990                      False                      False   \n16991                      False                      False   \n16992                      False                      False   \n16997                      False                      False   \n17007                      False                      False   \n\n                                                pregunta  \\\n262    <nombre> diplomado en derecho procesal penal m...   \n1848   <nombre> diplomado en derecho procesal penal m...   \n2920   <nombre> diplomado en derecho procesal penal m...   \n3441   <nombre> diplomado en derecho procesal penal m...   \n3687   <nombre> diplomado en derecho procesal penal m...   \n...                                                  ...   \n16990  <nombre> diplomado en derecho procesal penal m...   \n16991  <nombre> diplomado en derecho procesal penal m...   \n16992  <nombre> diplomado en derecho procesal penal m...   \n16997  <nombre> diplomado en derecho procesal penal m...   \n17007  <nombre> diplomado en derecho procesal penal m...   \n\n                                               respuesta  \n262    <titulo> abogado <area> humanidades y sociales...  \n1848   <titulo> abogado <area> humanidades y sociales...  \n2920   <titulo> abogado <area> humanidades y sociales...  \n3441   <titulo> abogado <area> humanidades y sociales...  \n3687   <titulo> abogado <area> humanidades y sociales...  \n...                                                  ...  \n16990  <titulo> abogado <area> humanidades y sociales...  \n16991  <titulo> abogado <area> humanidades y sociales...  \n16992  <titulo> abogado <area> humanidades y sociales...  \n16997  <titulo> abogado <area> humanidades y sociales...  \n17007  <titulo> licenciado en humanidades <area> huma...  \n\n[111 rows x 50 columns]",
      "text/html": "<div>\n<style scoped>\n    .dataframe tbody tr th:only-of-type {\n        vertical-align: middle;\n    }\n\n    .dataframe tbody tr th {\n        vertical-align: top;\n    }\n\n    .dataframe thead th {\n        text-align: right;\n    }\n</style>\n<table border=\"1\" class=\"dataframe\">\n  <thead>\n    <tr style=\"text-align: right;\">\n      <th></th>\n      <th>id</th>\n      <th>nombreuniversidad</th>\n      <th>nombretitulo</th>\n      <th>nombre_universidad</th>\n      <th>monto_tutoria</th>\n      <th>costo_programa</th>\n      <th>siglaNoVersion</th>\n      <th>siglaNoVersionNumero</th>\n      <th>nombre_programa</th>\n      <th>titulacion_antiguo</th>\n      <th>...</th>\n      <th>codigo_dpto_nacimiento_PO</th>\n      <th>codigo_dpto_nacimiento_SC</th>\n      <th>codigo_dpto_nacimiento_VA</th>\n      <th>codigo_pais_nacimiento_AR</th>\n      <th>codigo_pais_nacimiento_BO</th>\n      <th>codigo_pais_nacimiento_LATE</th>\n      <th>codigo_pais_nacimiento_PE</th>\n      <th>codigo_pais_nacimiento_RU</th>\n      <th>pregunta</th>\n      <th>respuesta</th>\n    </tr>\n  </thead>\n  <tbody>\n    <tr>\n      <th>262</th>\n      <td>4088924</td>\n      <td>MAYOR, REAL Y PONTIFICIA DE SAN FRANCISCO XAVIER</td>\n      <td>Abogado</td>\n      <td>Humanidades y Sociales</td>\n      <td>2475.0</td>\n      <td>3500</td>\n      <td>0.007229</td>\n      <td>1</td>\n      <td>Diplomado en Derecho Procesal Penal Mención: L...</td>\n      <td>True</td>\n      <td>...</td>\n      <td>False</td>\n      <td>False</td>\n      <td>False</td>\n      <td>False</td>\n      <td>True</td>\n      <td>False</td>\n      <td>False</td>\n      <td>False</td>\n      <td>&lt;nombre&gt; diplomado en derecho procesal penal m...</td>\n      <td>&lt;titulo&gt; abogado &lt;area&gt; humanidades y sociales...</td>\n    </tr>\n    <tr>\n      <th>1848</th>\n      <td>5632979</td>\n      <td>MAYOR, REAL Y PONTIFICIA DE SAN FRANCISCO XAVIER</td>\n      <td>Abogado</td>\n      <td>Humanidades y Sociales</td>\n      <td>2475.0</td>\n      <td>3500</td>\n      <td>0.007229</td>\n      <td>1</td>\n      <td>Diplomado en Derecho Procesal Penal Mención: L...</td>\n      <td>True</td>\n      <td>...</td>\n      <td>False</td>\n      <td>False</td>\n      <td>False</td>\n      <td>False</td>\n      <td>True</td>\n      <td>False</td>\n      <td>False</td>\n      <td>False</td>\n      <td>&lt;nombre&gt; diplomado en derecho procesal penal m...</td>\n      <td>&lt;titulo&gt; abogado &lt;area&gt; humanidades y sociales...</td>\n    </tr>\n    <tr>\n      <th>2920</th>\n      <td>5490322</td>\n      <td>MAYOR, REAL Y PONTIFICIA DE SAN FRANCISCO XAVIER</td>\n      <td>Abogado</td>\n      <td>Humanidades y Sociales</td>\n      <td>0.0</td>\n      <td>3500</td>\n      <td>0.007229</td>\n      <td>1</td>\n      <td>Diplomado en Derecho Procesal Penal Mención: L...</td>\n      <td>True</td>\n      <td>...</td>\n      <td>False</td>\n      <td>False</td>\n      <td>False</td>\n      <td>False</td>\n      <td>True</td>\n      <td>False</td>\n      <td>False</td>\n      <td>False</td>\n      <td>&lt;nombre&gt; diplomado en derecho procesal penal m...</td>\n      <td>&lt;titulo&gt; abogado &lt;area&gt; humanidades y sociales...</td>\n    </tr>\n    <tr>\n      <th>3441</th>\n      <td>4096564</td>\n      <td>MAYOR, REAL Y PONTIFICIA DE SAN FRANCISCO XAVIER</td>\n      <td>Abogado</td>\n      <td>Humanidades y Sociales</td>\n      <td>760.0</td>\n      <td>3500</td>\n      <td>0.007229</td>\n      <td>1</td>\n      <td>Diplomado en Derecho Procesal Penal Mención: L...</td>\n      <td>True</td>\n      <td>...</td>\n      <td>False</td>\n      <td>False</td>\n      <td>False</td>\n      <td>False</td>\n      <td>True</td>\n      <td>False</td>\n      <td>False</td>\n      <td>False</td>\n      <td>&lt;nombre&gt; diplomado en derecho procesal penal m...</td>\n      <td>&lt;titulo&gt; abogado &lt;area&gt; humanidades y sociales...</td>\n    </tr>\n    <tr>\n      <th>3687</th>\n      <td>3628445</td>\n      <td>MAYOR, REAL Y PONTIFICIA DE SAN FRANCISCO XAVIER</td>\n      <td>Abogado</td>\n      <td>Humanidades y Sociales</td>\n      <td>2475.0</td>\n      <td>3500</td>\n      <td>0.007229</td>\n      <td>1</td>\n      <td>Diplomado en Derecho Procesal Penal Mención: L...</td>\n      <td>True</td>\n      <td>...</td>\n      <td>False</td>\n      <td>False</td>\n      <td>False</td>\n      <td>False</td>\n      <td>True</td>\n      <td>False</td>\n      <td>False</td>\n      <td>False</td>\n      <td>&lt;nombre&gt; diplomado en derecho procesal penal m...</td>\n      <td>&lt;titulo&gt; abogado &lt;area&gt; humanidades y sociales...</td>\n    </tr>\n    <tr>\n      <th>...</th>\n      <td>...</td>\n      <td>...</td>\n      <td>...</td>\n      <td>...</td>\n      <td>...</td>\n      <td>...</td>\n      <td>...</td>\n      <td>...</td>\n      <td>...</td>\n      <td>...</td>\n      <td>...</td>\n      <td>...</td>\n      <td>...</td>\n      <td>...</td>\n      <td>...</td>\n      <td>...</td>\n      <td>...</td>\n      <td>...</td>\n      <td>...</td>\n      <td>...</td>\n      <td>...</td>\n    </tr>\n    <tr>\n      <th>16990</th>\n      <td>5679864</td>\n      <td>MAYOR, REAL Y PONTIFICIA DE SAN FRANCISCO XAVIER</td>\n      <td>Abogado</td>\n      <td>Humanidades y Sociales</td>\n      <td>0.0</td>\n      <td>3500</td>\n      <td>0.007229</td>\n      <td>1</td>\n      <td>Diplomado en Derecho Procesal Penal Mención: L...</td>\n      <td>False</td>\n      <td>...</td>\n      <td>False</td>\n      <td>False</td>\n      <td>False</td>\n      <td>False</td>\n      <td>True</td>\n      <td>False</td>\n      <td>False</td>\n      <td>False</td>\n      <td>&lt;nombre&gt; diplomado en derecho procesal penal m...</td>\n      <td>&lt;titulo&gt; abogado &lt;area&gt; humanidades y sociales...</td>\n    </tr>\n    <tr>\n      <th>16991</th>\n      <td>7505814</td>\n      <td>AUTONOMA GABRIEL RENE MORENO</td>\n      <td>Abogado</td>\n      <td>Humanidades y Sociales</td>\n      <td>0.0</td>\n      <td>3500</td>\n      <td>0.007229</td>\n      <td>1</td>\n      <td>Diplomado en Derecho Procesal Penal Mención: L...</td>\n      <td>False</td>\n      <td>...</td>\n      <td>False</td>\n      <td>False</td>\n      <td>False</td>\n      <td>False</td>\n      <td>True</td>\n      <td>False</td>\n      <td>False</td>\n      <td>False</td>\n      <td>&lt;nombre&gt; diplomado en derecho procesal penal m...</td>\n      <td>&lt;titulo&gt; abogado &lt;area&gt; humanidades y sociales...</td>\n    </tr>\n    <tr>\n      <th>16992</th>\n      <td>10337464</td>\n      <td>MAYOR, REAL Y PONTIFICIA DE SAN FRANCISCO XAVIER</td>\n      <td>Abogado</td>\n      <td>Humanidades y Sociales</td>\n      <td>760.0</td>\n      <td>3500</td>\n      <td>0.007229</td>\n      <td>1</td>\n      <td>Diplomado en Derecho Procesal Penal Mención: L...</td>\n      <td>False</td>\n      <td>...</td>\n      <td>False</td>\n      <td>False</td>\n      <td>False</td>\n      <td>False</td>\n      <td>True</td>\n      <td>False</td>\n      <td>False</td>\n      <td>False</td>\n      <td>&lt;nombre&gt; diplomado en derecho procesal penal m...</td>\n      <td>&lt;titulo&gt; abogado &lt;area&gt; humanidades y sociales...</td>\n    </tr>\n    <tr>\n      <th>16997</th>\n      <td>5668157</td>\n      <td>MAYOR, REAL Y PONTIFICIA DE SAN FRANCISCO XAVIER</td>\n      <td>Abogado</td>\n      <td>Humanidades y Sociales</td>\n      <td>2475.0</td>\n      <td>3500</td>\n      <td>0.007229</td>\n      <td>1</td>\n      <td>Diplomado en Derecho Procesal Penal Mención: L...</td>\n      <td>False</td>\n      <td>...</td>\n      <td>False</td>\n      <td>False</td>\n      <td>False</td>\n      <td>False</td>\n      <td>True</td>\n      <td>False</td>\n      <td>False</td>\n      <td>False</td>\n      <td>&lt;nombre&gt; diplomado en derecho procesal penal m...</td>\n      <td>&lt;titulo&gt; abogado &lt;area&gt; humanidades y sociales...</td>\n    </tr>\n    <tr>\n      <th>17007</th>\n      <td>7566061</td>\n      <td>MAYOR, REAL Y PONTIFICIA DE SAN FRANCISCO XAVIER</td>\n      <td>Licenciado en Humanidades</td>\n      <td>Humanidades y Sociales</td>\n      <td>2475.0</td>\n      <td>3500</td>\n      <td>0.007229</td>\n      <td>1</td>\n      <td>Diplomado en Derecho Procesal Penal Mención: L...</td>\n      <td>False</td>\n      <td>...</td>\n      <td>False</td>\n      <td>False</td>\n      <td>False</td>\n      <td>False</td>\n      <td>True</td>\n      <td>False</td>\n      <td>False</td>\n      <td>False</td>\n      <td>&lt;nombre&gt; diplomado en derecho procesal penal m...</td>\n      <td>&lt;titulo&gt; licenciado en humanidades &lt;area&gt; huma...</td>\n    </tr>\n  </tbody>\n</table>\n<p>111 rows × 50 columns</p>\n</div>"
     },
     "execution_count": 35,
     "metadata": {},
     "output_type": "execute_result"
    }
   ],
   "source": [
    "dfClean[dfClean['nombre_programa']=='Diplomado en Derecho Procesal Penal Mención: Ley Nº 1173, Ley de Abreviación Procesal Penal y de Fortalecimiento  de la Lucha Integral Contra la Violencia  a Niñas, Niños, Adolescentes y Mujeres']"
   ],
   "metadata": {
    "collapsed": false,
    "ExecuteTime": {
     "end_time": "2024-03-01T02:57:31.481248600Z",
     "start_time": "2024-03-01T02:57:31.424646Z"
    }
   },
   "id": "569a3f2614c1568"
  },
  {
   "cell_type": "code",
   "execution_count": 17,
   "outputs": [
    {
     "data": {
      "text/plain": "             id                                 nombreuniversidad  \\\n0       1115413  MAYOR, REAL Y PONTIFICIA DE SAN FRANCISCO XAVIER   \n1       3971480  MAYOR, REAL Y PONTIFICIA DE SAN FRANCISCO XAVIER   \n2       5496566  MAYOR, REAL Y PONTIFICIA DE SAN FRANCISCO XAVIER   \n3       5496566  MAYOR, REAL Y PONTIFICIA DE SAN FRANCISCO XAVIER   \n4       3909889  MAYOR, REAL Y PONTIFICIA DE SAN FRANCISCO XAVIER   \n...         ...                                               ...   \n26416   4096712  MAYOR, REAL Y PONTIFICIA DE SAN FRANCISCO XAVIER   \n26417   1118961  MAYOR, REAL Y PONTIFICIA DE SAN FRANCISCO XAVIER   \n26418   4115929  MAYOR, REAL Y PONTIFICIA DE SAN FRANCISCO XAVIER   \n26419   4503791        UNIVERSIDAD CATOLICA BOLIVIANA- COCHABAMBA   \n26420  13123996  MAYOR, REAL Y PONTIFICIA DE SAN FRANCISCO XAVIER   \n\n                                   nombretitulo      nombre_universidad  \\\n0                         Ingeniero de Sistemas            Tecnológicas   \n1                     Licenciado en Odontología    Ciencias de la Salud   \n2                                    Odontólogo    Ciencias de la Salud   \n3                                    Odontólogo    Ciencias de la Salud   \n4                                    Odontólogo    Ciencias de la Salud   \n...                                         ...                     ...   \n26416                                   Abogado  Humanidades y Sociales   \n26417               Contador Público Autorizado     Ciencias Económicas   \n26418  Licenciado en Administración de Empresas     Ciencias Económicas   \n26419                     Ingeniero de Sistemas            Tecnológicas   \n26420                     Ingeniero de Sistemas            Tecnológicas   \n\n       monto_tutoria  costo_programa  siglaNoVersion siglaNoVersionNumero  \\\n0              760.0            3040        0.120359                    8   \n1              200.0            4700        0.000984                    0   \n2              200.0            4700        0.000984                    0   \n3              100.0             350        0.120359                    0   \n4              200.0            4700        0.000984                    0   \n...              ...             ...             ...                  ...   \n26416         2475.0            4000        0.003785                    0   \n26417          760.0            4000        0.003785                    0   \n26418         2250.0            4000        0.003785                    0   \n26419         2250.0            4800        0.000038                   DD   \n26420          450.0            4350        0.001968                    0   \n\n                                         nombre_programa  titulacion_antiguo  \\\n0                    Diplomado en Educación Superior V.8                True   \n1                             Especialidad en Ortodoncia                True   \n2                             Especialidad en Ortodoncia                True   \n3                    Diplomado en Educación Superior V.7                True   \n4                             Especialidad en Ortodoncia                True   \n...                                                  ...                 ...   \n26416  Diplomado en Gestión de Procesos de Contrataci...                True   \n26417  Diplomado en Gestión de Procesos de Contrataci...                True   \n26418  Diplomado en Gestión de Procesos de Contrataci...               False   \n26419  Diplomado en DEVOPS, Versión I, Modalidad Virtual                True   \n26420  Diplomado en Diseño Gráfico Digital y Multimed...               False   \n\n       ...  codigo_dpto_nacimiento_PO  codigo_dpto_nacimiento_SC  \\\n0      ...                      False                      False   \n1      ...                       True                      False   \n2      ...                      False                      False   \n3      ...                      False                      False   \n4      ...                      False                       True   \n...    ...                        ...                        ...   \n26416  ...                      False                      False   \n26417  ...                      False                      False   \n26418  ...                      False                      False   \n26419  ...                      False                      False   \n26420  ...                      False                      False   \n\n       codigo_dpto_nacimiento_VA  codigo_pais_nacimiento_AR  \\\n0                          False                      False   \n1                          False                      False   \n2                          False                      False   \n3                          False                      False   \n4                          False                      False   \n...                          ...                        ...   \n26416                      False                      False   \n26417                      False                      False   \n26418                      False                      False   \n26419                      False                      False   \n26420                      False                      False   \n\n       codigo_pais_nacimiento_BO  codigo_pais_nacimiento_LATE  \\\n0                           True                        False   \n1                           True                        False   \n2                           True                        False   \n3                           True                        False   \n4                           True                        False   \n...                          ...                          ...   \n26416                       True                        False   \n26417                       True                        False   \n26418                       True                        False   \n26419                       True                        False   \n26420                       True                        False   \n\n       codigo_pais_nacimiento_PE  codigo_pais_nacimiento_RU  \\\n0                          False                      False   \n1                          False                      False   \n2                          False                      False   \n3                          False                      False   \n4                          False                      False   \n...                          ...                        ...   \n26416                      False                      False   \n26417                      False                      False   \n26418                      False                      False   \n26419                      False                      False   \n26420                      False                      False   \n\n                                                pregunta  \\\n0      <nombre> diplomado en educación superior v.8 <...   \n1      <nombre> especialidad en ortodoncia <monto> 20...   \n2      <nombre> especialidad en ortodoncia <monto> 20...   \n3      <nombre> diplomado en educación superior v.7 <...   \n4      <nombre> especialidad en ortodoncia <monto> 20...   \n...                                                  ...   \n26416  <nombre> diplomado en gestión de procesos de c...   \n26417  <nombre> diplomado en gestión de procesos de c...   \n26418  <nombre> diplomado en gestión de procesos de c...   \n26419  <nombre> diplomado en devops, versión i, modal...   \n26420  <nombre> diplomado en diseño gráfico digital y...   \n\n                                               respuesta  \n0      <titulo> ingeniero de sistemas <area> tecnológ...  \n1      <titulo> licenciado en odontología <area> cien...  \n2      <titulo> odontólogo <area> ciencias de la salu...  \n3      <titulo> odontólogo <area> ciencias de la salu...  \n4      <titulo> odontólogo <area> ciencias de la salu...  \n...                                                  ...  \n26416  <titulo> abogado <area> humanidades y sociales...  \n26417  <titulo> contador público autorizado <area> ci...  \n26418  <titulo> licenciado en administración de empre...  \n26419  <titulo> ingeniero de sistemas <area> tecnológ...  \n26420  <titulo> ingeniero de sistemas <area> tecnológ...  \n\n[26421 rows x 50 columns]",
      "text/html": "<div>\n<style scoped>\n    .dataframe tbody tr th:only-of-type {\n        vertical-align: middle;\n    }\n\n    .dataframe tbody tr th {\n        vertical-align: top;\n    }\n\n    .dataframe thead th {\n        text-align: right;\n    }\n</style>\n<table border=\"1\" class=\"dataframe\">\n  <thead>\n    <tr style=\"text-align: right;\">\n      <th></th>\n      <th>id</th>\n      <th>nombreuniversidad</th>\n      <th>nombretitulo</th>\n      <th>nombre_universidad</th>\n      <th>monto_tutoria</th>\n      <th>costo_programa</th>\n      <th>siglaNoVersion</th>\n      <th>siglaNoVersionNumero</th>\n      <th>nombre_programa</th>\n      <th>titulacion_antiguo</th>\n      <th>...</th>\n      <th>codigo_dpto_nacimiento_PO</th>\n      <th>codigo_dpto_nacimiento_SC</th>\n      <th>codigo_dpto_nacimiento_VA</th>\n      <th>codigo_pais_nacimiento_AR</th>\n      <th>codigo_pais_nacimiento_BO</th>\n      <th>codigo_pais_nacimiento_LATE</th>\n      <th>codigo_pais_nacimiento_PE</th>\n      <th>codigo_pais_nacimiento_RU</th>\n      <th>pregunta</th>\n      <th>respuesta</th>\n    </tr>\n  </thead>\n  <tbody>\n    <tr>\n      <th>0</th>\n      <td>1115413</td>\n      <td>MAYOR, REAL Y PONTIFICIA DE SAN FRANCISCO XAVIER</td>\n      <td>Ingeniero de Sistemas</td>\n      <td>Tecnológicas</td>\n      <td>760.0</td>\n      <td>3040</td>\n      <td>0.120359</td>\n      <td>8</td>\n      <td>Diplomado en Educación Superior V.8</td>\n      <td>True</td>\n      <td>...</td>\n      <td>False</td>\n      <td>False</td>\n      <td>False</td>\n      <td>False</td>\n      <td>True</td>\n      <td>False</td>\n      <td>False</td>\n      <td>False</td>\n      <td>&lt;nombre&gt; diplomado en educación superior v.8 &lt;...</td>\n      <td>&lt;titulo&gt; ingeniero de sistemas &lt;area&gt; tecnológ...</td>\n    </tr>\n    <tr>\n      <th>1</th>\n      <td>3971480</td>\n      <td>MAYOR, REAL Y PONTIFICIA DE SAN FRANCISCO XAVIER</td>\n      <td>Licenciado en Odontología</td>\n      <td>Ciencias de la Salud</td>\n      <td>200.0</td>\n      <td>4700</td>\n      <td>0.000984</td>\n      <td>0</td>\n      <td>Especialidad en Ortodoncia</td>\n      <td>True</td>\n      <td>...</td>\n      <td>True</td>\n      <td>False</td>\n      <td>False</td>\n      <td>False</td>\n      <td>True</td>\n      <td>False</td>\n      <td>False</td>\n      <td>False</td>\n      <td>&lt;nombre&gt; especialidad en ortodoncia &lt;monto&gt; 20...</td>\n      <td>&lt;titulo&gt; licenciado en odontología &lt;area&gt; cien...</td>\n    </tr>\n    <tr>\n      <th>2</th>\n      <td>5496566</td>\n      <td>MAYOR, REAL Y PONTIFICIA DE SAN FRANCISCO XAVIER</td>\n      <td>Odontólogo</td>\n      <td>Ciencias de la Salud</td>\n      <td>200.0</td>\n      <td>4700</td>\n      <td>0.000984</td>\n      <td>0</td>\n      <td>Especialidad en Ortodoncia</td>\n      <td>True</td>\n      <td>...</td>\n      <td>False</td>\n      <td>False</td>\n      <td>False</td>\n      <td>False</td>\n      <td>True</td>\n      <td>False</td>\n      <td>False</td>\n      <td>False</td>\n      <td>&lt;nombre&gt; especialidad en ortodoncia &lt;monto&gt; 20...</td>\n      <td>&lt;titulo&gt; odontólogo &lt;area&gt; ciencias de la salu...</td>\n    </tr>\n    <tr>\n      <th>3</th>\n      <td>5496566</td>\n      <td>MAYOR, REAL Y PONTIFICIA DE SAN FRANCISCO XAVIER</td>\n      <td>Odontólogo</td>\n      <td>Ciencias de la Salud</td>\n      <td>100.0</td>\n      <td>350</td>\n      <td>0.120359</td>\n      <td>0</td>\n      <td>Diplomado en Educación Superior V.7</td>\n      <td>True</td>\n      <td>...</td>\n      <td>False</td>\n      <td>False</td>\n      <td>False</td>\n      <td>False</td>\n      <td>True</td>\n      <td>False</td>\n      <td>False</td>\n      <td>False</td>\n      <td>&lt;nombre&gt; diplomado en educación superior v.7 &lt;...</td>\n      <td>&lt;titulo&gt; odontólogo &lt;area&gt; ciencias de la salu...</td>\n    </tr>\n    <tr>\n      <th>4</th>\n      <td>3909889</td>\n      <td>MAYOR, REAL Y PONTIFICIA DE SAN FRANCISCO XAVIER</td>\n      <td>Odontólogo</td>\n      <td>Ciencias de la Salud</td>\n      <td>200.0</td>\n      <td>4700</td>\n      <td>0.000984</td>\n      <td>0</td>\n      <td>Especialidad en Ortodoncia</td>\n      <td>True</td>\n      <td>...</td>\n      <td>False</td>\n      <td>True</td>\n      <td>False</td>\n      <td>False</td>\n      <td>True</td>\n      <td>False</td>\n      <td>False</td>\n      <td>False</td>\n      <td>&lt;nombre&gt; especialidad en ortodoncia &lt;monto&gt; 20...</td>\n      <td>&lt;titulo&gt; odontólogo &lt;area&gt; ciencias de la salu...</td>\n    </tr>\n    <tr>\n      <th>...</th>\n      <td>...</td>\n      <td>...</td>\n      <td>...</td>\n      <td>...</td>\n      <td>...</td>\n      <td>...</td>\n      <td>...</td>\n      <td>...</td>\n      <td>...</td>\n      <td>...</td>\n      <td>...</td>\n      <td>...</td>\n      <td>...</td>\n      <td>...</td>\n      <td>...</td>\n      <td>...</td>\n      <td>...</td>\n      <td>...</td>\n      <td>...</td>\n      <td>...</td>\n      <td>...</td>\n    </tr>\n    <tr>\n      <th>26416</th>\n      <td>4096712</td>\n      <td>MAYOR, REAL Y PONTIFICIA DE SAN FRANCISCO XAVIER</td>\n      <td>Abogado</td>\n      <td>Humanidades y Sociales</td>\n      <td>2475.0</td>\n      <td>4000</td>\n      <td>0.003785</td>\n      <td>0</td>\n      <td>Diplomado en Gestión de Procesos de Contrataci...</td>\n      <td>True</td>\n      <td>...</td>\n      <td>False</td>\n      <td>False</td>\n      <td>False</td>\n      <td>False</td>\n      <td>True</td>\n      <td>False</td>\n      <td>False</td>\n      <td>False</td>\n      <td>&lt;nombre&gt; diplomado en gestión de procesos de c...</td>\n      <td>&lt;titulo&gt; abogado &lt;area&gt; humanidades y sociales...</td>\n    </tr>\n    <tr>\n      <th>26417</th>\n      <td>1118961</td>\n      <td>MAYOR, REAL Y PONTIFICIA DE SAN FRANCISCO XAVIER</td>\n      <td>Contador Público Autorizado</td>\n      <td>Ciencias Económicas</td>\n      <td>760.0</td>\n      <td>4000</td>\n      <td>0.003785</td>\n      <td>0</td>\n      <td>Diplomado en Gestión de Procesos de Contrataci...</td>\n      <td>True</td>\n      <td>...</td>\n      <td>False</td>\n      <td>False</td>\n      <td>False</td>\n      <td>False</td>\n      <td>True</td>\n      <td>False</td>\n      <td>False</td>\n      <td>False</td>\n      <td>&lt;nombre&gt; diplomado en gestión de procesos de c...</td>\n      <td>&lt;titulo&gt; contador público autorizado &lt;area&gt; ci...</td>\n    </tr>\n    <tr>\n      <th>26418</th>\n      <td>4115929</td>\n      <td>MAYOR, REAL Y PONTIFICIA DE SAN FRANCISCO XAVIER</td>\n      <td>Licenciado en Administración de Empresas</td>\n      <td>Ciencias Económicas</td>\n      <td>2250.0</td>\n      <td>4000</td>\n      <td>0.003785</td>\n      <td>0</td>\n      <td>Diplomado en Gestión de Procesos de Contrataci...</td>\n      <td>False</td>\n      <td>...</td>\n      <td>False</td>\n      <td>False</td>\n      <td>False</td>\n      <td>False</td>\n      <td>True</td>\n      <td>False</td>\n      <td>False</td>\n      <td>False</td>\n      <td>&lt;nombre&gt; diplomado en gestión de procesos de c...</td>\n      <td>&lt;titulo&gt; licenciado en administración de empre...</td>\n    </tr>\n    <tr>\n      <th>26419</th>\n      <td>4503791</td>\n      <td>UNIVERSIDAD CATOLICA BOLIVIANA- COCHABAMBA</td>\n      <td>Ingeniero de Sistemas</td>\n      <td>Tecnológicas</td>\n      <td>2250.0</td>\n      <td>4800</td>\n      <td>0.000038</td>\n      <td>DD</td>\n      <td>Diplomado en DEVOPS, Versión I, Modalidad Virtual</td>\n      <td>True</td>\n      <td>...</td>\n      <td>False</td>\n      <td>False</td>\n      <td>False</td>\n      <td>False</td>\n      <td>True</td>\n      <td>False</td>\n      <td>False</td>\n      <td>False</td>\n      <td>&lt;nombre&gt; diplomado en devops, versión i, modal...</td>\n      <td>&lt;titulo&gt; ingeniero de sistemas &lt;area&gt; tecnológ...</td>\n    </tr>\n    <tr>\n      <th>26420</th>\n      <td>13123996</td>\n      <td>MAYOR, REAL Y PONTIFICIA DE SAN FRANCISCO XAVIER</td>\n      <td>Ingeniero de Sistemas</td>\n      <td>Tecnológicas</td>\n      <td>450.0</td>\n      <td>4350</td>\n      <td>0.001968</td>\n      <td>0</td>\n      <td>Diplomado en Diseño Gráfico Digital y Multimed...</td>\n      <td>False</td>\n      <td>...</td>\n      <td>False</td>\n      <td>False</td>\n      <td>False</td>\n      <td>False</td>\n      <td>True</td>\n      <td>False</td>\n      <td>False</td>\n      <td>False</td>\n      <td>&lt;nombre&gt; diplomado en diseño gráfico digital y...</td>\n      <td>&lt;titulo&gt; ingeniero de sistemas &lt;area&gt; tecnológ...</td>\n    </tr>\n  </tbody>\n</table>\n<p>26421 rows × 50 columns</p>\n</div>"
     },
     "execution_count": 17,
     "metadata": {},
     "output_type": "execute_result"
    }
   ],
   "source": [
    "dfClean"
   ],
   "metadata": {
    "collapsed": false,
    "ExecuteTime": {
     "end_time": "2024-03-01T02:04:28.281675100Z",
     "start_time": "2024-03-01T02:04:28.162300400Z"
    }
   },
   "id": "880650ee5b88537f"
  },
  {
   "cell_type": "code",
   "execution_count": 16,
   "outputs": [
    {
     "data": {
      "text/plain": "0        <nombre> diplomado en educación superior v.8 <...\n1        <nombre> especialidad en ortodoncia <monto> 20...\n2        <nombre> especialidad en ortodoncia <monto> 20...\n3        <nombre> diplomado en educación superior v.7 <...\n4        <nombre> especialidad en ortodoncia <monto> 20...\n                               ...                        \n26416    <nombre> diplomado en gestión de procesos de c...\n26417    <nombre> diplomado en gestión de procesos de c...\n26418    <nombre> diplomado en gestión de procesos de c...\n26419    <nombre> diplomado en devops, versión i, modal...\n26420    <nombre> diplomado en diseño gráfico digital y...\nName: pregunta, Length: 26421, dtype: object"
     },
     "execution_count": 16,
     "metadata": {},
     "output_type": "execute_result"
    }
   ],
   "source": [
    "dfClean['pregunta']"
   ],
   "metadata": {
    "collapsed": false,
    "ExecuteTime": {
     "start_time": "2024-03-01T02:03:21.205183100Z"
    }
   },
   "id": "d0f4e8b6f0283dd3"
  }
 ],
 "metadata": {
  "kernelspec": {
   "display_name": "Python 3",
   "language": "python",
   "name": "python3"
  },
  "language_info": {
   "codemirror_mode": {
    "name": "ipython",
    "version": 2
   },
   "file_extension": ".py",
   "mimetype": "text/x-python",
   "name": "python",
   "nbconvert_exporter": "python",
   "pygments_lexer": "ipython2",
   "version": "2.7.6"
  }
 },
 "nbformat": 4,
 "nbformat_minor": 5
}
