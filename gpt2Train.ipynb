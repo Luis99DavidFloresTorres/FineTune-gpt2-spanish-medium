{
 "cells": [
  {
   "cell_type": "code",
   "execution_count": 26,
   "id": "initial_id",
   "metadata": {
    "collapsed": true,
    "ExecuteTime": {
     "end_time": "2024-03-01T01:28:35.746390800Z",
     "start_time": "2024-03-01T01:28:35.723017600Z"
    }
   },
   "outputs": [],
   "source": [
    "from transformers import AutoModelForCausalLM, AutoTokenizer, DataCollatorForLanguageModeling, Trainer, TrainingArguments\n",
    "import pandas as pd\n",
    "import torch"
   ]
  },
  {
   "cell_type": "code",
   "execution_count": 27,
   "outputs": [],
   "source": [
    "# Load model directly\n",
    "from transformers import AutoTokenizer, AutoModelForCausalLM\n",
    "tokenizer = AutoTokenizer.from_pretrained(\"DeepESP/gpt2-spanish-medium\")\n",
    "#model = AutoModelForCausalLM.from_pretrained(\"DeepESP/gpt2-spanish-medium\")\n",
    "model =AutoModelForCausalLM.from_pretrained(\"LuisDavidFT777/gpt2-spanish-medium\")"
   ],
   "metadata": {
    "collapsed": false,
    "ExecuteTime": {
     "end_time": "2024-03-01T01:28:44.288902700Z",
     "start_time": "2024-03-01T01:28:35.998158600Z"
    }
   },
   "id": "437dc93d1499fac"
  },
  {
   "cell_type": "code",
   "execution_count": 28,
   "outputs": [
    {
     "data": {
      "text/plain": "GPT2LMHeadModel(\n  (transformer): GPT2Model(\n    (wte): Embedding(50257, 1024)\n    (wpe): Embedding(1024, 1024)\n    (drop): Dropout(p=0.1, inplace=False)\n    (h): ModuleList(\n      (0-23): 24 x GPT2Block(\n        (ln_1): LayerNorm((1024,), eps=1e-05, elementwise_affine=True)\n        (attn): GPT2Attention(\n          (c_attn): Conv1D()\n          (c_proj): Conv1D()\n          (attn_dropout): Dropout(p=0.1, inplace=False)\n          (resid_dropout): Dropout(p=0.1, inplace=False)\n        )\n        (ln_2): LayerNorm((1024,), eps=1e-05, elementwise_affine=True)\n        (mlp): GPT2MLP(\n          (c_fc): Conv1D()\n          (c_proj): Conv1D()\n          (act): NewGELUActivation()\n          (dropout): Dropout(p=0.1, inplace=False)\n        )\n      )\n    )\n    (ln_f): LayerNorm((1024,), eps=1e-05, elementwise_affine=True)\n  )\n  (lm_head): Linear(in_features=1024, out_features=50257, bias=False)\n)"
     },
     "execution_count": 28,
     "metadata": {},
     "output_type": "execute_result"
    }
   ],
   "source": [
    "device = 'cuda' if torch.cuda.is_available() else 'cpu'\n",
    "model.to(device)"
   ],
   "metadata": {
    "collapsed": false,
    "ExecuteTime": {
     "end_time": "2024-03-01T01:28:45.530173400Z",
     "start_time": "2024-03-01T01:28:44.297940800Z"
    }
   },
   "id": "c464a520d8947f68"
  },
  {
   "cell_type": "code",
   "execution_count": 29,
   "outputs": [],
   "source": [
    "dfC = 'E:/chatbot CEPI/data/pregunta_respuesta.csv'\n",
    "dfClean = pd.read_csv(dfC)\n"
   ],
   "metadata": {
    "collapsed": false,
    "ExecuteTime": {
     "end_time": "2024-03-01T01:28:45.794571Z",
     "start_time": "2024-03-01T01:28:45.528164800Z"
    }
   },
   "id": "307c66938cfa2ac9"
  },
  {
   "cell_type": "code",
   "execution_count": 30,
   "outputs": [],
   "source": [
    "dfClean=dfClean[1000:1300].reset_index()"
   ],
   "metadata": {
    "collapsed": false,
    "ExecuteTime": {
     "end_time": "2024-03-01T01:28:45.809195800Z",
     "start_time": "2024-03-01T01:28:45.807188800Z"
    }
   },
   "id": "81fa60ae74f24606"
  },
  {
   "cell_type": "code",
   "execution_count": 31,
   "outputs": [
    {
     "name": "stdout",
     "output_type": "stream",
     "text": [
      "pregunta: ---- <nombre> diplomado en derecho procesal penal, versión i, modalidad virtual <monto> 760.0 <costo> 3000\n",
      "respuesta: ---- <titulo> bachiller en humanidades <area> humanidades y sociales <universidad> mayor, real y pontificia de san francisco xavier\n"
     ]
    }
   ],
   "source": [
    "print('pregunta: ---- '+dfClean.loc[10,'pregunta'])\n",
    "print('respuesta: ---- '+dfClean.loc[10,'respuesta'])"
   ],
   "metadata": {
    "collapsed": false,
    "ExecuteTime": {
     "end_time": "2024-03-01T01:28:45.825119500Z",
     "start_time": "2024-03-01T01:28:45.812196300Z"
    }
   },
   "id": "1b24581c7988f9f1"
  },
  {
   "cell_type": "code",
   "execution_count": 32,
   "outputs": [],
   "source": [
    "textTokenizar =  '<humano> Dame una recomendacion de este curso '+dfClean['pregunta']+' <asistente> '+dfClean['respuesta']"
   ],
   "metadata": {
    "collapsed": false,
    "ExecuteTime": {
     "end_time": "2024-03-01T01:28:45.842029100Z",
     "start_time": "2024-03-01T01:28:45.822121700Z"
    }
   },
   "id": "1d4722b604f04d06"
  },
  {
   "cell_type": "code",
   "execution_count": 33,
   "outputs": [],
   "source": [
    "tokenized_dataset =[]\n",
    "att_mask = []\n",
    "for i in range(0,len(dfClean['pregunta'])):\n",
    "    wordToken = tokenizer(textTokenizar[i],padding='max_length',truncation=True,return_tensors='pt', max_length=100)\n",
    "    tokenized_dataset.append(wordToken['input_ids'][0])\n",
    "    att_mask.append(wordToken['attention_mask'][0])"
   ],
   "metadata": {
    "collapsed": false,
    "ExecuteTime": {
     "end_time": "2024-03-01T01:28:46.004601600Z",
     "start_time": "2024-03-01T01:28:45.835036300Z"
    }
   },
   "id": "55a4e63a87e1585a"
  },
  {
   "cell_type": "code",
   "execution_count": 37,
   "outputs": [],
   "source": [
    "inp = {'input_ids':tokenized_dataset,'text':textTokenizar, 'attention_mask':att_mask}"
   ],
   "metadata": {
    "collapsed": false,
    "ExecuteTime": {
     "end_time": "2024-03-01T01:29:15.039435800Z",
     "start_time": "2024-03-01T01:29:15.024433700Z"
    }
   },
   "id": "641b7b3e70b17e6a"
  },
  {
   "cell_type": "code",
   "execution_count": 38,
   "outputs": [],
   "source": [
    "from datasets import Dataset\n",
    "data = Dataset.from_dict(inp)"
   ],
   "metadata": {
    "collapsed": false,
    "ExecuteTime": {
     "end_time": "2024-03-01T01:29:15.987726800Z",
     "start_time": "2024-03-01T01:29:15.941963100Z"
    }
   },
   "id": "df1e4e74f676c516"
  },
  {
   "cell_type": "code",
   "execution_count": 39,
   "outputs": [],
   "source": [
    "data_collator = DataCollatorForLanguageModeling(tokenizer=tokenizer, mlm=False)\n",
    "\n",
    "# Configurar los argumentos de entrenamiento\n",
    "training_args = TrainingArguments(\n",
    "    output_dir='./finetuned_model',\n",
    "    num_train_epochs=1,  # Número de épocas de entrenamiento\n",
    "    per_device_train_batch_size=8,  # Tamaño del lote de entrenamiento por dispositivo\n",
    "    logging_steps=1,\n",
    "    logging_first_step=True,\n",
    "    remove_unused_columns=True\n",
    ")\n",
    "\n",
    "# Crear el objeto Trainer\n",
    "trainer = Trainer(\n",
    "    model=model,\n",
    "    args=training_args,\n",
    "    train_dataset=data,\n",
    "    data_collator=data_collator\n",
    ")"
   ],
   "metadata": {
    "collapsed": false,
    "ExecuteTime": {
     "end_time": "2024-03-01T01:29:17.532511700Z",
     "start_time": "2024-03-01T01:29:17.513936600Z"
    }
   },
   "id": "c8c598548cced9a0"
  },
  {
   "cell_type": "code",
   "execution_count": 40,
   "outputs": [
    {
     "data": {
      "text/plain": "<IPython.core.display.HTML object>",
      "text/html": "\n    <div>\n      \n      <progress value='2' max='38' style='width:300px; height:20px; vertical-align: middle;'></progress>\n      [ 2/38 : < :, Epoch 0.03/1]\n    </div>\n    <table border=\"1\" class=\"dataframe\">\n  <thead>\n <tr style=\"text-align: left;\">\n      <th>Step</th>\n      <th>Training Loss</th>\n    </tr>\n  </thead>\n  <tbody>\n  </tbody>\n</table><p>"
     },
     "metadata": {},
     "output_type": "display_data"
    },
    {
     "data": {
      "text/plain": "TrainOutput(global_step=38, training_loss=0.3539005117981057, metrics={'train_runtime': 1243.3002, 'train_samples_per_second': 0.241, 'train_steps_per_second': 0.031, 'total_flos': 54416056320000.0, 'train_loss': 0.3539005117981057, 'epoch': 1.0})"
     },
     "execution_count": 40,
     "metadata": {},
     "output_type": "execute_result"
    }
   ],
   "source": [
    "trainer.train()"
   ],
   "metadata": {
    "collapsed": false,
    "ExecuteTime": {
     "end_time": "2024-03-01T01:50:07.649439400Z",
     "start_time": "2024-03-01T01:29:22.399915500Z"
    }
   },
   "id": "c6f3955db86762a0"
  },
  {
   "cell_type": "code",
   "execution_count": 41,
   "outputs": [
    {
     "data": {
      "text/plain": "Dataset({\n    features: ['input_ids', 'text', 'attention_mask'],\n    num_rows: 300\n})"
     },
     "execution_count": 41,
     "metadata": {},
     "output_type": "execute_result"
    }
   ],
   "source": [
    "trainer.train_dataset"
   ],
   "metadata": {
    "collapsed": false,
    "ExecuteTime": {
     "end_time": "2024-03-01T01:50:07.684498500Z",
     "start_time": "2024-03-01T01:50:07.671499300Z"
    }
   },
   "id": "6a7f684cf8debdb1"
  },
  {
   "cell_type": "code",
   "execution_count": 42,
   "outputs": [
    {
     "data": {
      "text/plain": "README.md:   0%|          | 0.00/5.18k [00:00<?, ?B/s]",
      "application/vnd.jupyter.widget-view+json": {
       "version_major": 2,
       "version_minor": 0,
       "model_id": "1a4f5c1b920f471aaffc66e80d1a691f"
      }
     },
     "metadata": {},
     "output_type": "display_data"
    },
    {
     "name": "stderr",
     "output_type": "stream",
     "text": [
      "E:\\chatbot CEPI\\venv\\Lib\\site-packages\\huggingface_hub\\file_download.py:149: UserWarning: `huggingface_hub` cache-system uses symlinks by default to efficiently store duplicated files but your machine does not support them in C:\\Users\\Usuario\\.cache\\huggingface\\hub\\models--LuisDavidFT777--gpt2-spanish-medium. Caching files will still work but in a degraded version that might require more space on your disk. This warning can be disabled by setting the `HF_HUB_DISABLE_SYMLINKS_WARNING` environment variable. For more details, see https://huggingface.co/docs/huggingface_hub/how-to-cache#limitations.\n",
      "To support symlinks on Windows, you either need to activate Developer Mode or to run Python as an administrator. In order to see activate developer mode, see this article: https://docs.microsoft.com/en-us/windows/apps/get-started/enable-your-device-for-development\n",
      "  warnings.warn(message)\n"
     ]
    },
    {
     "data": {
      "text/plain": "model.safetensors:   0%|          | 0.00/1.42G [00:00<?, ?B/s]",
      "application/vnd.jupyter.widget-view+json": {
       "version_major": 2,
       "version_minor": 0,
       "model_id": "ff0e6262d50544ddaca5e34765f20be1"
      }
     },
     "metadata": {},
     "output_type": "display_data"
    },
    {
     "data": {
      "text/plain": "CommitInfo(commit_url='https://huggingface.co/LuisDavidFT777/gpt2-spanish-medium/commit/df82c4fd98e3bd14ac505c3941364741a7523d40', commit_message='Upload model', commit_description='', oid='df82c4fd98e3bd14ac505c3941364741a7523d40', pr_url=None, pr_revision=None, pr_num=None)"
     },
     "execution_count": 42,
     "metadata": {},
     "output_type": "execute_result"
    }
   ],
   "source": [
    "model.push_to_hub('LuisDavidFT777/gpt2-spanish-medium', token=True)"
   ],
   "metadata": {
    "collapsed": false,
    "ExecuteTime": {
     "end_time": "2024-03-01T02:02:56.257700300Z",
     "start_time": "2024-03-01T01:50:07.673499100Z"
    }
   },
   "id": "ce97fe4b5bc4c42f"
  },
  {
   "cell_type": "code",
   "execution_count": 43,
   "outputs": [],
   "source": [
    "model.save_pretrained('gpt2_2')"
   ],
   "metadata": {
    "collapsed": false,
    "ExecuteTime": {
     "end_time": "2024-03-01T02:03:23.439101400Z",
     "start_time": "2024-03-01T02:02:56.270631500Z"
    }
   },
   "id": "90431e6c874e6052"
  },
  {
   "cell_type": "code",
   "execution_count": null,
   "outputs": [],
   "source": [],
   "metadata": {
    "collapsed": false
   },
   "id": "88a576cde5fbe58b"
  }
 ],
 "metadata": {
  "kernelspec": {
   "display_name": "Python 3",
   "language": "python",
   "name": "python3"
  },
  "language_info": {
   "codemirror_mode": {
    "name": "ipython",
    "version": 2
   },
   "file_extension": ".py",
   "mimetype": "text/x-python",
   "name": "python",
   "nbconvert_exporter": "python",
   "pygments_lexer": "ipython2",
   "version": "2.7.6"
  }
 },
 "nbformat": 4,
 "nbformat_minor": 5
}
